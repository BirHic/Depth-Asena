{
  "nbformat": 4,
  "nbformat_minor": 0,
  "metadata": {
    "colab": {
      "name": "DepthV1.ipynb",
      "provenance": [],
      "authorship_tag": "ABX9TyMy8QrSXuiKhBsNMIZT8+GO",
      "include_colab_link": true
    },
    "kernelspec": {
      "name": "python3",
      "display_name": "Python 3"
    }
  },
  "cells": [
    {
      "cell_type": "markdown",
      "metadata": {
        "id": "view-in-github",
        "colab_type": "text"
      },
      "source": [
        "<a href=\"https://colab.research.google.com/github/BirHic/Depth-Asena/blob/main/DepthV1.ipynb\" target=\"_parent\"><img src=\"https://colab.research.google.com/assets/colab-badge.svg\" alt=\"Open In Colab\"/></a>"
      ]
    },
    {
      "cell_type": "markdown",
      "metadata": {
        "id": "ufKsJWw_NUxY"
      },
      "source": [
        " ## **Asena PLUG / Interpolation**\n",
        " \n",
        "`Kullanımı:`\n",
        "- Google Drive üzerinde \\\"`DAIN`\\\" adlı bir klasör oluşturun.\n",
        "- Google Drive üzerinde \\\"`videos`\\\" adlı bir klasör oluşturun.\n",
        " \n",
        "- Önemli Not: Videoları \\\"`videos`\\\" klasörüne yükleyin. \\\"`DAIN`\\\" adlı klasöre hiçbir dosya yüklemeyin."
      ]
    },
    {
      "cell_type": "markdown",
      "metadata": {
        "id": "iH9-RLwWOjgE"
      },
      "source": [
        "- `Önemli Not`: Sayfa yenilenirse yada bağlantı koparsa işlemleri en baştan yapmanız gerekecektir. Bunun önüne geçmek için çift ekran kullanabilirsiniz."
      ]
    },
    {
      "cell_type": "code",
      "metadata": {
        "cellView": "form",
        "id": "MFjr1BIUPC4c"
      },
      "source": [
        "#@markdown # Gerekli Kurulum\n",
        " \n",
        "#@markdown ## Input file\n",
        "#@markdown Lütfen sadece `mp4` ve `gif` formatında video yükleyin. Sadece `720p` ve altı çözünürlüğe sahip videolar desteklenir. Sadece `input.mp4` yazan yeri yüklediğiniz video ismi ile değiştirin.\n",
        "INPUT_FILEPATH = \"videos/input.mp4\" #@param{type:\"string\"}\n",
        " \n",
        "#@markdown ## Output file\n",
        "#@markdown Sadece `output.mp4` yazan yeri belirlediğiniz bir isim ile değiştirin. \n",
        "OUTPUT_FILE_PATH = \"DAIN/output.mp4\" #@param{type:\"string\"}\n",
        " \n",
        " \n",
        "#@markdown ## Hedef FPS\n",
        "#@markdown Yüksek FPS değeri daha uzun süre işlem gerektirir\n",
        "TARGET_FPS = 60 #@param{type:\"number\"}\n",
        " \n",
        "#@markdown `AŞAĞIDAKİ KODLARI BİLGİNİZ OLMADAN DOKUNMAYIN`\n",
        " \n",
        "#@markdown ## Frame input directory\n",
        "#@markdown Ana GDrive Root Dizininde, Elde Edilen PNG Dosyalarının Hangi Klasörün İçine oluşturulacağını seçin. Örnek PNG Adları 00001.png, 00002.png\n",
        "FRAME_INPUT_DIR = '/content/DAIN/input_frames' #@param{type:\"string\"}\n",
        " \n",
        "#@markdown ## Frame output directory\n",
        "#@markdown Ana GDrive Root Dizininde, Oluşturulan PNG Dosyalarının Hangi Klasörün İçine Yerleştirileceğini seçin.\n",
        "FRAME_OUTPUT_DIR = '/content/DAIN/output_frames' #@param{type:\"string\"}\n",
        " \n",
        " \n",
        "#@markdown ## Start Frame\n",
        "#@markdown Videonun Kaçıncı Kareden Başlayacağını Seçin. Gerekmedikçe Dokunmayın!\n",
        "START_FRAME = 1 #@param{type:\"number\"}\n",
        " \n",
        "#@markdown ## End Frame\n",
        "#@markdown Videonun Kaçıncı Karede Sonlanacağını Seçin. Gerekmedikçe Dokunmayın!\n",
        "END_FRAME = -1 #@param{type:\"number\"}\n",
        " \n",
        "#@markdown ## Seamless playback\n",
        "#@markdown Perfect Loop İçin İlk ve Son Kareleri Birleştirir. Etkinleştirme için Tike Basın.\n",
        "SEAMLESS = True #@param{type:\"boolean\"}\n",
        " \n",
        "#@markdown ## Resize hotfix\n",
        "#@markdown Interpolate frameleri, orijinal girdi çerçevelerine kıyasla biraz \\ \"kaymış / daha küçük \\\". Bu, Interpolate frame'lerini + 2px çözünürlüğe yeniden boyutlandırarak ve sonucu başlangıç ​​noktası (1,1) ile orijinal boyutuna kırparak kısmen hafifletilebilir. Bu düzeltme olmadan Interpolate, \\ \"titreşimli \\\" çıktı oluşturma eğilimindedir ve metin gibi statik öğelerle oldukça fark edilir.\n",
        "#@markdown\n",
        "#@markdown Bu düzeltme, daha yumuşak bir videoyu ayarlamak için bu tür efektleri daha az görünür kılmaya çalışır. CVPR 2018'in bu sorun için düzeltme olarak neyi kullandığını bilmiyorum, ancak orijinal, varsayılan test görüntülerinde böyle bir davranış gösteriyor. Daha ileri düzey kullanıcılar Interpolation yöntemini değiştirebilir. Cv2.INTER_CUBIC ve cv2.INTER_LANCZOS4 yöntemleri önerilir. Geçerli varsayılan değer cv2.INTER_LANCZOS4'tür.\n",
        "RESIZE_HOTFIX = True #@param{type:\"boolean\"}\n",
        " \n",
        "#@markdown ## Auto-remove PNG directory\n",
        "#@markdown Ffmpeg video oluşturulduktan sonra çıktı PNG dizinini otomatik siler. PNG dosyalarını saklamak istiyorsanız bunu \"False\" olarak ayarlayın.\n",
        "AUTO_REMOVE = True #@param{type:\"boolean\"}"
      ],
      "execution_count": null,
      "outputs": []
    },
    {
      "cell_type": "markdown",
      "metadata": {
        "id": "X2EY3xonRyNh"
      },
      "source": [
        "# Modüller Yükleniyor...\n",
        "Hiçbir modül bağlı olduğunuz internet üzerinden indirilmez. Data harcaması - Bellek kullanımı yapmaz."
      ]
    },
    {
      "cell_type": "code",
      "metadata": {
        "id": "OKrwCZFrRq0G"
      },
      "source": [
        "# Connect Google Drive\n",
        "from google.colab import drive\n",
        "drive.mount('/content/gdrive')\n",
        "print('Google Drive connected.')"
      ],
      "execution_count": null,
      "outputs": []
    },
    {
      "cell_type": "code",
      "metadata": {
        "id": "HJ0qubNwR8CE"
      },
      "source": [
        "# PyTorch ve SciPy Mödüllerinin en bilinen versiyonları yükleniyor...\n",
        " \n",
        "!apt-get update\n",
        "!pip install torch==1.4.0+cu100 torchvision==0.5.0+cu100 -f https://download.pytorch.org/whl/torch_stable.html\n",
        "!pip install scipy==1.1.0\n",
        " \n",
        "!CUDA_VISIBLE_DEVICES=0\n",
        "!sudo apt-get install imagemagick imagemagick-doc\n",
        "print(\"Tamamlandı.\")"
      ],
      "execution_count": null,
      "outputs": []
    },
    {
      "cell_type": "code",
      "metadata": {
        "id": "LSTmNqkySG_g"
      },
      "source": [
        "# Interpolate Dosyaları Klonlanıyor...\n",
        " \n",
        "%cd /content\n",
        "!git clone -b master --depth 1 https://github.com/baowenbo/DAIN /content/DAIN\n",
        "%cd /content/DAIN\n",
        "!git log -1"
      ],
      "execution_count": null,
      "outputs": []
    },
    {
      "cell_type": "code",
      "metadata": {
        "id": "_CqiDjUCSZbW"
      },
      "source": [
        "# Bu Aşama 10-15 Dakika Sürecektir.\n",
        "# Interpolate Yükleniyor.\n",
        " \n",
        "%cd /content/DAIN/my_package/\n",
        "!./build.sh\n",
        "print(\"Tamamlandı\")"
      ],
      "execution_count": null,
      "outputs": []
    },
    {
      "cell_type": "code",
      "metadata": {
        "id": "MvZJ4xwOSmn-"
      },
      "source": [
        "# Bu Aşama 5 Dakika Sürecektir.\n",
        "# PyTorch Dosyaları Yükleniyor.\n",
        " \n",
        "%cd /content/DAIN/PWCNet/correlation_package_pytorch1_0\n",
        "!./build.sh\n",
        "print(\"Tamamlandı.\")"
      ],
      "execution_count": null,
      "outputs": []
    },
    {
      "cell_type": "markdown",
      "metadata": {
        "id": "an-6iYvwTGl2"
      },
      "source": [
        " - `Önemli Not:` Sayfayı yenilemeden, bağlantıyı kesmeden birden fazla işlem yapmak için yukarıdaki video ismini, hedef fps'i vs. değiştirdikten sonra aşağıdaki koddan itibaren çalıştırın."
      ]
    },
    {
      "cell_type": "code",
      "metadata": {
        "id": "yu188fLxTJBN"
      },
      "source": [
        "# BU KODU BİRDEN FAZLA İŞLEMLERDE KULLANIN.\n",
        "# İkinci bir videoyu Interpolate etmeden bu kodu kullanarak eski PNG dosyalarını silin.\n",
        "if(AUTO_REMOVE):\n",
        "  !rm -rf {FRAME_OUTPUT_DIR}/*"
      ],
      "execution_count": null,
      "outputs": []
    },
    {
      "cell_type": "code",
      "metadata": {
        "id": "EA2ZpOMRTayq"
      },
      "source": [
        "# Pre-trained Modeller İndiriliyor.\n",
        " \n",
        "%cd /content/DAIN\n",
        "!mkdir model_weights\n",
        "!wget -O model_weights/best.pth http://vllab1.ucmerced.edu/~wenbobao/DAIN/best.pth"
      ],
      "execution_count": null,
      "outputs": []
    },
    {
      "cell_type": "code",
      "metadata": {
        "id": "nd4wpDfiTscC"
      },
      "source": [
        " \n",
        "# Videodaki FPS Değeri Hesaplanıyor.\n",
        " \n",
        "%shell yes | cp -f /content/gdrive/My\\ Drive/{INPUT_FILEPATH} /content/DAIN/\n",
        " \n",
        "import os\n",
        "filename = os.path.basename(INPUT_FILEPATH)\n",
        " \n",
        "import cv2\n",
        "cap = cv2.VideoCapture(f'/content/DAIN/{filename}')\n",
        " \n",
        "fps = cap.get(cv2.CAP_PROP_FPS)\n",
        "print(f\"Input file has {fps} fps\")\n",
        " \n",
        "if(fps/TARGET_FPS>0.5):\n",
        "  print(\"DAHA YÜKSEK FPS DEĞERİ GİRİN. YENİ GİRDİĞİNİZ FPS DEĞERİ ORİJİNAL VİDEONUN 2 KATI OLMALIDIR\")"
      ],
      "execution_count": null,
      "outputs": []
    },
    {
      "cell_type": "code",
      "metadata": {
        "id": "7qhYERkOT8ZL"
      },
      "source": [
        "# ffmpeg extract - Generating individual frame PNGs from the source file.\n",
        "%shell rm -rf '{FRAME_INPUT_DIR}'\n",
        "%shell mkdir -p '{FRAME_INPUT_DIR}'\n",
        " \n",
        "if (END_FRAME==-1):\n",
        "  %shell ffmpeg -i '/content/DAIN/{filename}' -vf 'select=gte(n\\,{START_FRAME}),setpts=PTS-STARTPTS' '{FRAME_INPUT_DIR}/%05d.png'\n",
        "else:\n",
        "  %shell ffmpeg -i '/content/DAIN/{filename}' -vf 'select=between(n\\,{START_FRAME}\\,{END_FRAME}),setpts=PTS-STARTPTS' '{FRAME_INPUT_DIR}/%05d.png'\n",
        " \n",
        "from IPython.display import clear_output\n",
        "clear_output()\n",
        " \n",
        "png_generated_count_command_result = %shell ls '{FRAME_INPUT_DIR}' | wc -l\n",
        "frame_count = int(png_generated_count_command_result.output.strip())\n",
        " \n",
        "import shutil\n",
        "if SEAMLESS:\n",
        "  frame_count += 1\n",
        "  first_frame = f\"{FRAME_INPUT_DIR}/00001.png\"\n",
        "  new_last_frame = f\"{FRAME_INPUT_DIR}/{frame_count.zfill(5)}.png\"\n",
        "  shutil.copyfile(first_frame, new_last_frame)\n",
        " \n",
        "print(f\"{frame_count} frame PNGs generated.\")"
      ],
      "execution_count": null,
      "outputs": []
    },
    {
      "cell_type": "code",
      "metadata": {
        "id": "04P1qy7fUQie"
      },
      "source": [
        " \n",
        "# PNG'lerde ki Alfa oranına bakılıyor...\n",
        " \n",
        "import subprocess as sp\n",
        "%cd {FRAME_INPUT_DIR}\n",
        "channels = sp.getoutput('identify -format %[channels] 00001.png')\n",
        "print (f\"{channels} detected\")\n",
        " \n",
        "# Removing alpha if detected\n",
        "if \"a\" in channels:\n",
        "  print(\"Alpha channel detected and will be removed.\")\n",
        "  print(sp.getoutput('find . -name \"*.png\" -exec convert \"{}\" -alpha off PNG24:\"{}\" \\;'))"
      ],
      "execution_count": null,
      "outputs": []
    },
    {
      "cell_type": "code",
      "metadata": {
        "id": "GMrdzEAoUXk7"
      },
      "source": [
        "# Interpolation\n",
        " \n",
        "%shell mkdir -p '{FRAME_OUTPUT_DIR}'\n",
        "%cd /content/DAIN\n",
        " \n",
        "!python -W ignore colab_interpolate.py --netName DAIN_slowmotion --time_step {fps/TARGET_FPS} --start_frame 1 --end_frame {frame_count} --frame_input_dir '{FRAME_INPUT_DIR}' --frame_output_dir '{FRAME_OUTPUT_DIR}'"
      ],
      "execution_count": null,
      "outputs": []
    },
    {
      "cell_type": "code",
      "metadata": {
        "id": "lQ6iv2U3UdSY"
      },
      "source": [
        "# Dosyalar Bulunuyor, Orijinali ile Eşleşmesi İçin Sıkıştırılıyor...\n",
        " \n",
        "%cd {FRAME_OUTPUT_DIR}\n",
        " \n",
        "if (RESIZE_HOTFIX):\n",
        "  images = []\n",
        "  for filename in os.listdir(FRAME_OUTPUT_DIR):\n",
        "    img = cv2.imread(os.path.join(FRAME_OUTPUT_DIR, filename))\n",
        "    filename = os.path.splitext(filename)[0]\n",
        "    if(not filename.endswith('0')):\n",
        "      dimensions = (img.shape[1]+2, img.shape[0]+2)\n",
        "      resized = cv2.resize(img, dimensions, interpolation=cv2.INTER_LANCZOS4)\n",
        "      crop = resized[1:(dimensions[1]-1), 1:(dimensions[0]-1)]\n",
        "      cv2.imwrite(f\"{filename}.png\", crop)"
      ],
      "execution_count": null,
      "outputs": []
    },
    {
      "cell_type": "code",
      "metadata": {
        "id": "WcRBjOI2UuMi"
      },
      "source": [
        "# Video Oluşturuluyor...\n",
        " \n",
        "%cd {FRAME_OUTPUT_DIR}\n",
        "%shell ffmpeg -y -r {TARGET_FPS} -f image2 -pattern_type glob -i '*.png' '/content/gdrive/My Drive/{OUTPUT_FILE_PATH}'"
      ],
      "execution_count": null,
      "outputs": []
    },
    {
      "cell_type": "markdown",
      "metadata": {
        "id": "KLhrSlXvVDr0"
      },
      "source": [
        " ## 30 Saniye bekledikten sonra videonuz `DAIN` klasöründe olacaktır. Drive'ı açarak kontrol edebilirsiniz."
      ]
    },
    {
      "cell_type": "markdown",
      "metadata": {
        "id": "TGhqmgudVVcI"
      },
      "source": [
        " ` AŞAĞIDAKİ KOMUTLAR HER ZAMAN ÇALIŞMAYABİLİR. KULLANIMINI BİLENLER HARİCİ KODLARLA OYNAMAYIN`"
      ]
    },
    {
      "cell_type": "code",
      "metadata": {
        "id": "-J9NsCFqVbnw"
      },
      "source": [
        "# [Experimental] Create video with sound\n",
        "# Only run this, if the original had sound.\n",
        "%cd {FRAME_OUTPUT_DIR}\n",
        "%shell ffmpeg -i '/content/DAIN/{filename}' -acodec copy output-audio.aac\n",
        "%shell ffmpeg -y -r {TARGET_FPS} -f image2 -pattern_type glob -i '*.png' -i output-audio.aac -shortest '/content/gdrive/My Drive/{OUTPUT_FILE_PATH}'\n",
        "\n",
        "if (AUTO_REMOVE):\n",
        "  !rm -rf {FRAME_OUTPUT_DIR}/*\n",
        "  !rm -rf output-audio.aac"
      ],
      "execution_count": null,
      "outputs": []
    }
  ]
}
